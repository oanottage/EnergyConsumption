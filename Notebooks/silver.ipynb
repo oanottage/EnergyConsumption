{
 "cells": [
  {
   "cell_type": "code",
   "execution_count": 1,
   "metadata": {},
   "outputs": [],
   "source": [
    "import pandas as pd\n",
    "import sqlite3\n",
    "import os\n",
    "from datetime import datetime, timedelta\n",
    "os.chdir(\"/Users/oanottage/Desktop/BTS/BDI/Final_Project/\")"
   ]
  },
  {
   "cell_type": "code",
   "execution_count": 2,
   "metadata": {},
   "outputs": [],
   "source": [
    "today = datetime.today().date()\n",
    "week_ago = today - timedelta(days=7)"
   ]
  },
  {
   "cell_type": "code",
   "execution_count": 8,
   "metadata": {},
   "outputs": [],
   "source": [
    "weather_df = pd.read_csv(f\"Data_Lake/Bronze_Layer/Daily_Weather.csv\", parse_dates=['date'])\n",
    "energy_df = pd.read_csv(f\"Data_Lake/Bronze_Layer/Energy_Daily_Region.csv\", parse_dates=['period']).rename(columns={'period': 'date'})"
   ]
  },
  {
   "cell_type": "code",
   "execution_count": 9,
   "metadata": {},
   "outputs": [],
   "source": [
    "combined_df = energy_df.merge(weather_df, on='date', how='left', suffixes=['_energy','_weather'])"
   ]
  },
  {
   "cell_type": "code",
   "execution_count": 10,
   "metadata": {},
   "outputs": [],
   "source": [
    "combined_df.to_csv(f\"Data_Lake/Silver_Layer/Combined_Data.csv\",index=False)"
   ]
  },
  {
   "cell_type": "code",
   "execution_count": null,
   "metadata": {},
   "outputs": [],
   "source": [
    "def combined_silver():\n",
    "  weather_df = pd.read_csv(f\"Data_Lake/Bronze_Layer/Daily_Weather_{week_ago}.csv\", parse_dates=['date'])\n",
    "  energy_df = pd.read_csv(f\"Data_Lake/Bronze_Layer/Energy_Daily_Region_{week_ago}.csv\", parse_dates=['period']).rename(columns={'period': 'date'})\n",
    "  combined_df = energy_df.merge(weather_df, on='date', how='left', suffixes=['_energy','_weather'])\n",
    "  combined_df['date'] = combined_df['date'].dt.strftime('%Y-%m-%d %H:%M:%S')\n",
    "  combined_df.to_csv(f\"Data_Lake/Silver_Layer/Combined_Data_{week_ago}.csv\",index=False)\n",
    "\n",
    "  #Rename columns for combined database\n",
    "  combined_df.columns = ['date', 'respondent', 'respondent_name', 'type', 'type_name',\n",
    "       'timezone', 'timezone_description', 'value_energy', 'value_units',\n",
    "       'datatype', 'station', 'attributes', 'value_weather']\n",
    "  \n",
    "  #Dynamic Insertion into Database\n",
    "  #Connect to BDI Database and Create Table if not exists\n",
    "  cnx = sqlite3.connect('Data_Lake/Databases/BDI.db')\n",
    "  c = cnx.cursor()\n",
    "  c.execute(\"CREATE TABLE IF NOT EXISTS combined(Date TEXT, Respondent TEXT, Respondent_Name TEXT, Type TEXT, Type_Name TEXT, Timezone TEXT, Timezone_Description TEXT, Energy_Value INTEGER, Energy_Units TEXT, Datatype TEXT, Station TEXT, Attributes TEXT, Weather_Value INTEGER)\")\n",
    "\n",
    "  #Insert Energy and Weather fields into database\n",
    "  for index, row in combined_df.iterrows():\n",
    "     c.execute(\"INSERT INTO combined(Date, Respondent, Respondent_Name, Type, Type_Name, Timezone, Timezone_Description, Energy_Value, Energy_Units, Datatype, Station, Attributes, Weather_Value) VALUES (?, ?, ?, ?, ?, ?, ?, ?, ?, ?, ?, ?, ?)\",\n",
    "     (row.date, row.respondent, row.respondent_name, row.type, row.type_name, row.timezone, row.timezone_description, row.value_energy, row.value_units, row.datatype, row.station, row.attributes, row.value_weather)) \n",
    "     cnx.commit()\n",
    "     c.close()\n",
    "     cnx.close()\n",
    "  \n",
    "  return"
   ]
  },
  {
   "cell_type": "code",
   "execution_count": 22,
   "metadata": {},
   "outputs": [],
   "source": [
    "combined_df['date'] = combined_df['date'].dt.strftime('%Y-%m-%d %H:%M:%S')"
   ]
  },
  {
   "cell_type": "code",
   "execution_count": 23,
   "metadata": {},
   "outputs": [],
   "source": [
    "#Dynamic Insertion into Database\n",
    "#Connect to BDI Database and Create Table if not exists\n",
    "cnx = sqlite3.connect('Data_Lake/Databases/BDI.db')\n",
    "c = cnx.cursor()\n",
    "c.execute(\"CREATE TABLE IF NOT EXISTS combined(Date TEXT, Respondent TEXT, Respondent_Name TEXT, Type TEXT, Type_Name TEXT, Timezone TEXT, Timezone_Description TEXT, Energy_Value INTEGER, Energy_Units TEXT, Datatype TEXT, Station TEXT, Attributes TEXT, Weather_Value INTEGER)\")\n",
    "\n",
    "#Insert Energy and Weather fields into database\n",
    "for index, row in combined_df.iterrows():\n",
    "    c.execute(\"INSERT INTO combined(Date, Respondent, Respondent_Name, Type, Type_Name, Timezone, Timezone_Description, Energy_Value, Energy_Units, Datatype, Station, Attributes, Weather_Value) VALUES (?, ?, ?, ?, ?, ?, ?, ?, ?, ?, ?, ?, ?)\",\n",
    "                (row.date, row.respondent, row.respondent_name, row.type, row.type_name, row.timezone, row.timezone_description, row.value_energy, row.value_units, row.datatype, row.station, row.attributes, row.value_weather)) \n",
    "    cnx.commit()\n",
    "c.close()\n",
    "cnx.close()"
   ]
  },
  {
   "cell_type": "code",
   "execution_count": null,
   "metadata": {},
   "outputs": [],
   "source": []
  },
  {
   "cell_type": "code",
   "execution_count": null,
   "metadata": {},
   "outputs": [],
   "source": []
  },
  {
   "cell_type": "code",
   "execution_count": null,
   "metadata": {},
   "outputs": [],
   "source": []
  },
  {
   "cell_type": "code",
   "execution_count": null,
   "metadata": {},
   "outputs": [],
   "source": []
  },
  {
   "cell_type": "code",
   "execution_count": null,
   "metadata": {},
   "outputs": [],
   "source": []
  },
  {
   "cell_type": "code",
   "execution_count": null,
   "metadata": {},
   "outputs": [],
   "source": []
  },
  {
   "cell_type": "code",
   "execution_count": null,
   "metadata": {},
   "outputs": [],
   "source": []
  },
  {
   "cell_type": "code",
   "execution_count": null,
   "metadata": {},
   "outputs": [],
   "source": []
  },
  {
   "cell_type": "code",
   "execution_count": null,
   "metadata": {},
   "outputs": [],
   "source": []
  },
  {
   "cell_type": "code",
   "execution_count": null,
   "metadata": {},
   "outputs": [],
   "source": []
  },
  {
   "cell_type": "code",
   "execution_count": 1,
   "metadata": {},
   "outputs": [],
   "source": [
    "import pandas as pd\n",
    "import sqlite3\n",
    "import os\n",
    "from datetime import datetime, timedelta\n",
    "os.chdir(\"/Users/oanottage/Desktop/BTS/BDI/Final_Project/\")\n",
    "\n",
    "\n",
    "today = datetime.today().date()\n",
    "week_ago = today - timedelta(days=7)\n",
    "\n",
    "\n",
    "def combined_silver():\n",
    "  weather_df = pd.read_csv(f\"Data_Lake/Bronze_Layer/Daily_Weather_{week_ago}.csv\", parse_dates=['date'])\n",
    "  energy_df = pd.read_csv(f\"Data_Lake/Bronze_Layer/Energy_Daily_Region_{week_ago}.csv\", parse_dates=['period']).rename(columns={'period': 'date'})\n",
    "  combined_df = energy_df.merge(weather_df, on='date', how='left', suffixes=['_energy','_weather'])\n",
    "  combined_df['date'] = combined_df['date'].dt.strftime('%Y-%m-%d %H:%M:%S')\n",
    "  combined_df.to_csv(f\"Data_Lake/Silver_Layer/Combined_Data_{week_ago}.csv\",index=False)\n",
    "\n",
    "  #Rename columns for combined database\n",
    "  combined_df.columns = ['date', 'respondent', 'respondent_name', 'type', 'type_name',\n",
    "       'timezone', 'timezone_description', 'value_energy', 'value_units',\n",
    "       'datatype', 'station', 'attributes', 'value_weather']\n",
    "  \n",
    "  #Dynamic Insertion into Database\n",
    "  #Connect to BDI Database and Create Table if not exists\n",
    "  cnx = sqlite3.connect('Data_Lake/Databases/EnergyWeatherDB.db')\n",
    "  c = cnx.cursor()\n",
    "  c.execute(\"CREATE TABLE IF NOT EXISTS combined(Date TEXT, Respondent TEXT, Respondent_Name TEXT, Type TEXT, Type_Name TEXT, Timezone TEXT, Timezone_Description TEXT, Energy_Value INTEGER, Energy_Units TEXT, Datatype TEXT, Station TEXT, Attributes TEXT, Weather_Value INTEGER)\")\n",
    "\n",
    "  #Insert Energy and Weather fields into database\n",
    "  for index, row in combined_df.iterrows():\n",
    "     c.execute(\"INSERT INTO combined(Date, Respondent, Respondent_Name, Type, Type_Name, Timezone, Timezone_Description, Energy_Value, Energy_Units, Datatype, Station, Attributes, Weather_Value) VALUES (?, ?, ?, ?, ?, ?, ?, ?, ?, ?, ?, ?, ?)\",\n",
    "     (row.date, row.respondent, row.respondent_name, row.type, row.type_name, row.timezone, row.timezone_description, row.value_energy, row.value_units, row.datatype, row.station, row.attributes, row.value_weather)) \n",
    "     cnx.commit()\n",
    "  c.close()\n",
    "  cnx.close()\n",
    "  \n",
    "  return\n",
    "\n",
    "def silver():\n",
    "  combined_silver()\n",
    "  return "
   ]
  },
  {
   "cell_type": "code",
   "execution_count": 2,
   "metadata": {},
   "outputs": [],
   "source": [
    "silver()"
   ]
  },
  {
   "cell_type": "code",
   "execution_count": null,
   "metadata": {},
   "outputs": [],
   "source": []
  }
 ],
 "metadata": {
  "kernelspec": {
   "display_name": "Python 3 (ipykernel)",
   "language": "python",
   "name": "python3"
  },
  "orig_nbformat": 4
 },
 "nbformat": 4,
 "nbformat_minor": 2
}
